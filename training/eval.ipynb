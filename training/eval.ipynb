{
 "cells": [
  {
   "cell_type": "code",
   "execution_count": 1,
   "id": "c2aa86c3",
   "metadata": {},
   "outputs": [],
   "source": [
    "import argparse\n",
    "import numpy as np\n",
    "import pandas as pd\n",
    "import matplotlib.pyplot as plt\n",
    "\n",
    "from data import TimeSeriesData\n",
    "from transform import make_tabular_ts\n",
    "from tensorflow.keras.layers import LSTM\n",
    "from tensorflow.keras.models import Sequential"
   ]
  },
  {
   "cell_type": "code",
   "execution_count": 2,
   "id": "9b54192f",
   "metadata": {},
   "outputs": [
    {
     "name": "stdout",
     "output_type": "stream",
     "text": [
      "Epoch 1/10\n"
     ]
    },
    {
     "name": "stderr",
     "output_type": "stream",
     "text": [
      "2022-12-01 21:40:10.119431: I tensorflow/core/platform/cpu_feature_guard.cc:151] This TensorFlow binary is optimized with oneAPI Deep Neural Network Library (oneDNN) to use the following CPU instructions in performance-critical operations:  AVX2 FMA\n",
      "To enable them in other operations, rebuild TensorFlow with the appropriate compiler flags.\n"
     ]
    },
    {
     "name": "stdout",
     "output_type": "stream",
     "text": [
      "150/150 [==============================] - 3s 6ms/step - loss: 21.9447 - mse: 21.9447 - val_loss: 0.3439 - val_mse: 0.3439\n",
      "Epoch 2/10\n",
      "150/150 [==============================] - 1s 4ms/step - loss: 0.6747 - mse: 0.6747 - val_loss: 0.1449 - val_mse: 0.1449\n",
      "Epoch 3/10\n",
      "150/150 [==============================] - 1s 4ms/step - loss: 0.5472 - mse: 0.5472 - val_loss: 0.1090 - val_mse: 0.1090\n",
      "Epoch 4/10\n",
      "150/150 [==============================] - 1s 4ms/step - loss: 0.4840 - mse: 0.4840 - val_loss: 0.0803 - val_mse: 0.0803\n",
      "Epoch 5/10\n",
      "150/150 [==============================] - 1s 4ms/step - loss: 0.4499 - mse: 0.4499 - val_loss: 0.0747 - val_mse: 0.0747\n",
      "Epoch 6/10\n",
      "150/150 [==============================] - 1s 4ms/step - loss: 0.4399 - mse: 0.4399 - val_loss: 0.0721 - val_mse: 0.0721\n",
      "Epoch 7/10\n",
      "150/150 [==============================] - 1s 4ms/step - loss: 0.4262 - mse: 0.4262 - val_loss: 0.0677 - val_mse: 0.0677\n",
      "Epoch 8/10\n",
      "150/150 [==============================] - 1s 4ms/step - loss: 0.4173 - mse: 0.4173 - val_loss: 0.0670 - val_mse: 0.0670\n",
      "Epoch 9/10\n",
      "150/150 [==============================] - 1s 4ms/step - loss: 0.4252 - mse: 0.4252 - val_loss: 0.0663 - val_mse: 0.0663\n",
      "Epoch 10/10\n",
      "150/150 [==============================] - 1s 4ms/step - loss: 0.4132 - mse: 0.4132 - val_loss: 0.0659 - val_mse: 0.0659\n"
     ]
    },
    {
     "data": {
      "text/plain": [
       "<keras.callbacks.History at 0x7fafada41a60>"
      ]
     },
     "execution_count": 2,
     "metadata": {},
     "output_type": "execute_result"
    }
   ],
   "source": [
    "ts = TimeSeriesData()\n",
    "df = ts.get_data()\n",
    "\n",
    "col = \"LPG\"\n",
    "\n",
    "data = df.loc[:, col]\n",
    "train = data.loc[:len(data) * 0.6].dropna()\n",
    "test = data.loc[int(len(data) * 0.6):].dropna()\n",
    "\n",
    "train_data = make_tabular_ts(train.tolist())\n",
    "test_data = make_tabular_ts(test.tolist())\n",
    "\n",
    "X_train, y_train = train_data[:, :-1].astype(np.float32), train_data[:, -1].flatten().astype(np.float32)\n",
    "X_test, y_test = test_data[:, :-1].astype(np.float32), test_data[:, -1].flatten().astype(np.float32)\n",
    "\n",
    "X_train = X_train.reshape(-1, 4, 1)\n",
    "X_test = X_test.reshape(-1, 4, 1)\n",
    "\n",
    "lstm = Sequential()\n",
    "lstm.add(LSTM(32, activation=\"relu\", return_sequences=True))\n",
    "lstm.add(LSTM(1, activation=None))\n",
    "\n",
    "lstm.compile(loss=\"mse\", optimizer=\"adam\", metrics=[\"mse\"])\n",
    "lstm.fit(X_train, y_train, epochs=10, validation_data=(X_test, y_test))"
   ]
  },
  {
   "cell_type": "code",
   "execution_count": 3,
   "id": "28ec4cd9",
   "metadata": {},
   "outputs": [
    {
     "name": "stdout",
     "output_type": "stream",
     "text": [
      "100/100 [==============================] - 0s 1ms/step - loss: 0.0659 - mse: 0.0659\n"
     ]
    },
    {
     "data": {
      "text/plain": [
       "[0.0659157782793045, 0.0659157782793045]"
      ]
     },
     "execution_count": 3,
     "metadata": {},
     "output_type": "execute_result"
    }
   ],
   "source": [
    "lstm.evaluate(X_test, y_test)"
   ]
  },
  {
   "cell_type": "code",
   "execution_count": 20,
   "id": "21b7567c",
   "metadata": {},
   "outputs": [
    {
     "data": {
      "text/plain": [
       "[<matplotlib.lines.Line2D at 0x7faf7eea3970>]"
      ]
     },
     "execution_count": 20,
     "metadata": {},
     "output_type": "execute_result"
    },
    {
     "data": {
      "image/png": "[encoded data removed]",
      "text/plain": [
       "<Figure size 432x288 with 1 Axes>"
      ]
     },
     "metadata": {
      "needs_background": "light"
     },
     "output_type": "display_data"
    }
   ],
   "source": [
    "init_data = X_train[-1]\n",
    "predicted = []\n",
    "for i in range(len(test_data)):\n",
    "    prediction = lstm.predict(np.expand_dims(init_data, axis=0))\n",
    "    predicted.append(prediction[0])\n",
    "    init_data[:-1] = init_data[1:]\n",
    "    init_data[-1] = prediction\n",
    "\n",
    "plt.plot(np.arange(len(train_data)), train_data, color='b')\n",
    "plt.plot(np.arange(len(train_data), len(train_data) + len(test_data)), test_data, color='g')\n",
    "plt.plot(np.arange(len(train_data), len(train_data) + len(test_data)), predicted, color='black')"
   ]
  },
  {
   "cell_type": "code",
   "execution_count": 32,
   "id": "a558cdf2",
   "metadata": {},
   "outputs": [
    {
     "data": {
      "text/plain": [
       "[<matplotlib.lines.Line2D at 0x7faf876b2d00>]"
      ]
     },
     "execution_count": 32,
     "metadata": {},
     "output_type": "execute_result"
    },
    {
     "data": {
      "image/png": "[encoded data removed]",
      "text/plain": [
       "<Figure size 432x288 with 1 Axes>"
      ]
     },
     "metadata": {
      "needs_background": "light"
     },
     "output_type": "display_data"
    }
   ],
   "source": [
    "from sklearn.linear_model import LinearRegression\n",
    "\n",
    "rolling_mean = df.loc[:, col].rolling(window=10).mean().dropna()\n",
    "train = rolling_mean.iloc[:int(len(rolling_mean) * 0.6)]\n",
    "test = rolling_mean.iloc[int(len(rolling_mean) * 0.6):]\n",
    "train_data = make_tabular_ts(train.tolist())\n",
    "test_data = make_tabular_ts(test.tolist())\n",
    "\n",
    "X_train, y_train = train_data[:, :-1], train_data[:, -1].flatten()\n",
    "\n",
    "model = LinearRegression()\n",
    "model.fit(X_train, y_train)\n",
    "    \n",
    "init_mean_data = X_train[-1]\n",
    "index = len(train)\n",
    "init_data = df.loc[:, col].iloc[index:index + 10].astype(float).tolist()\n",
    "init_data[-1] = 0 # we haven't known this value yet\n",
    "predicted_values = []\n",
    "    \n",
    "for _ in range(len(test)):\n",
    "    new_data = model.predict([init_mean_data])\n",
    "    actual_value = 10 * new_data[0] - sum(init_data[:-1])\n",
    "    predicted_values.append(actual_value)\n",
    "    init_data[-1] = actual_value\n",
    "    init_data = init_data[1:]\n",
    "    init_data.append(0)\n",
    "    init_mean_data[:-1] = init_mean_data[1:]\n",
    "    init_mean_data[-1] = float(new_data[0])\n",
    "plt.plot(np.arange(len(train)), train)\n",
    "plt.plot(np.arange(len(train), len(train) + len(test)), test)\n",
    "plt.plot(np.arange(len(train), len(train) + len(test)), predicted_values)"
   ]
  },
  {
   "cell_type": "code",
   "execution_count": null,
   "id": "f17f5508",
   "metadata": {},
   "outputs": [],
   "source": []
  }
 ],
 "metadata": {
  "kernelspec": {
   "display_name": "Python 3 (ipykernel)",
   "language": "python",
   "name": "python3"
  },
  "language_info": {
   "codemirror_mode": {
    "name": "ipython",
    "version": 3
   },
   "file_extension": ".py",
   "mimetype": "text/x-python",
   "name": "python",
   "nbconvert_exporter": "python",
   "pygments_lexer": "ipython3",
   "version": "3.8.8"
  }
 },
 "nbformat": 4,
 "nbformat_minor": 5
}
